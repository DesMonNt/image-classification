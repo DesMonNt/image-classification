{
 "cells": [
  {
   "cell_type": "code",
   "source": [
    "import torch\n",
    "import torch.nn as nn\n",
    "import torch.optim as optim\n",
    "\n",
    "from torchvision import datasets, transforms\n",
    "from torch.utils.data import DataLoader\n",
    "\n",
    "from cnn import CNN\n",
    "from train import train"
   ],
   "metadata": {
    "collapsed": false,
    "jupyter": {
     "is_executing": true
    }
   },
   "id": "7d6e8dc649ea861e",
   "outputs": [],
   "execution_count": null
  },
  {
   "metadata": {},
   "cell_type": "markdown",
   "source": "# Configuration of model",
   "id": "847bd2a124632f38"
  },
  {
   "metadata": {
    "jupyter": {
     "is_executing": true
    }
   },
   "cell_type": "code",
   "source": [
    "device = \"cuda\" if torch.cuda.is_available() else \"cpu\"\n",
    "\n",
    "if torch.backends.mps.is_available():\n",
    "    device = \"mps\"\n",
    "\n",
    "PATH_TO_READY_MODEL = None\n",
    "PATH_TO_SAVE_MODEL = \"model.pth\"\n",
    "EPOCHS = 20"
   ],
   "id": "b9a57e9b2f578b88",
   "outputs": [],
   "execution_count": null
  },
  {
   "metadata": {},
   "cell_type": "markdown",
   "source": "# Load dataset",
   "id": "fd5accc14cb5ecba"
  },
  {
   "cell_type": "code",
   "source": [
    "transform = transforms.Compose([transforms.ToTensor(), transforms.Normalize((0.1307,), (0.3081,))])\n",
    "\n",
    "train_dataset = datasets.MNIST(root='./data', train=True, download=True, transform=transform)\n",
    "test_dataset = datasets.MNIST(root='./data', train=False, download=True, transform=transform)\n",
    "\n",
    "train_loader = DataLoader(train_dataset, batch_size=64, shuffle=True)\n",
    "test_loader = DataLoader(test_dataset, batch_size=64, shuffle=False)"
   ],
   "metadata": {
    "collapsed": false,
    "is_executing": true,
    "ExecuteTime": {
     "end_time": "2025-02-20T16:27:03.936544Z",
     "start_time": "2025-02-20T16:27:03.913655Z"
    }
   },
   "id": "2e79f1429e05077",
   "outputs": [],
   "execution_count": 12
  },
  {
   "metadata": {},
   "cell_type": "markdown",
   "source": "# Setup model",
   "id": "11d75f00414de79a"
  },
  {
   "cell_type": "code",
   "source": [
    "model = CNN().to(device)\n",
    "optimizer = optim.Adam(model.parameters(), lr=1e-4)\n",
    "criterion = nn.CrossEntropyLoss().to(device)"
   ],
   "metadata": {
    "collapsed": false,
    "ExecuteTime": {
     "end_time": "2025-02-20T16:27:03.949435Z",
     "start_time": "2025-02-20T16:27:03.944050Z"
    }
   },
   "id": "c90b9ae389f8e9b1",
   "outputs": [],
   "execution_count": 13
  },
  {
   "metadata": {},
   "cell_type": "markdown",
   "source": "# Train or load model",
   "id": "5f47231c548cab07"
  },
  {
   "cell_type": "code",
   "source": [
    "if PATH_TO_READY_MODEL is not None:\n",
    "    model.load_state_dict(torch.load(PATH_TO_READY_MODEL, map_location=device))\n",
    "else:\n",
    "    train(model, optimizer, criterion, train_loader, test_loader, device=device, num_epochs=EPOCHS)\n",
    "    torch.save(model.state_dict(), PATH_TO_SAVE_MODEL if PATH_TO_SAVE_MODEL is not None else \"model.pth\")"
   ],
   "metadata": {
    "collapsed": false,
    "ExecuteTime": {
     "end_time": "2025-02-20T16:28:43.109394Z",
     "start_time": "2025-02-20T16:27:03.956854Z"
    }
   },
   "id": "a57b7667486d7bb0",
   "outputs": [
    {
     "name": "stdout",
     "output_type": "stream",
     "text": [
      "Epoch [1/20], Loss: 0.2861\n",
      "Epoch [2/20], Loss: 0.0575\n",
      "Epoch [3/20], Loss: 0.0374\n",
      "Epoch [4/20], Loss: 0.0278\n",
      "Epoch [5/20], Loss: 0.0218\n",
      "Epoch [6/20], Loss: 0.0167\n",
      "Epoch [7/20], Loss: 0.0121\n",
      "Epoch [8/20], Loss: 0.0107\n",
      "Epoch [9/20], Loss: 0.0087\n",
      "Epoch [10/20], Loss: 0.0067\n",
      "Epoch [11/20], Loss: 0.0057\n",
      "Epoch [12/20], Loss: 0.0049\n",
      "Epoch [13/20], Loss: 0.0042\n",
      "Early stopping triggered.\n"
     ]
    }
   ],
   "execution_count": 14
  },
  {
   "metadata": {},
   "cell_type": "markdown",
   "source": "# Show result on validation data",
   "id": "648db6d028308d3f"
  },
  {
   "cell_type": "code",
   "source": [
    "model.eval() \n",
    "\n",
    "correct = 0\n",
    "total = 0\n",
    "\n",
    "with torch.no_grad():\n",
    "    for images, real_labels in test_loader:\n",
    "        images = images.to(device)\n",
    "        real_labels = real_labels.to(device)\n",
    "        \n",
    "        outputs = model(images)\n",
    "        _, predicted_labels = torch.max(outputs, 1)\n",
    "        \n",
    "        total += real_labels.size(0)\n",
    "        correct += (predicted_labels == real_labels).sum().item()\n",
    "\n",
    "print(f'Accuracy on test dataset: {100 * correct / total:.2f}%')"
   ],
   "metadata": {
    "collapsed": false,
    "ExecuteTime": {
     "end_time": "2025-02-20T16:30:50.263447Z",
     "start_time": "2025-02-20T16:30:49.416786Z"
    }
   },
   "id": "d899b6787b4f1d1f",
   "outputs": [
    {
     "name": "stdout",
     "output_type": "stream",
     "text": [
      "Accuracy on test dataset: 99.25%\n"
     ]
    }
   ],
   "execution_count": 25
  }
 ],
 "metadata": {
  "kernelspec": {
   "display_name": "Python 3",
   "language": "python",
   "name": "python3"
  },
  "language_info": {
   "codemirror_mode": {
    "name": "ipython",
    "version": 2
   },
   "file_extension": ".py",
   "mimetype": "text/x-python",
   "name": "python",
   "nbconvert_exporter": "python",
   "pygments_lexer": "ipython2",
   "version": "2.7.6"
  }
 },
 "nbformat": 4,
 "nbformat_minor": 5
}
