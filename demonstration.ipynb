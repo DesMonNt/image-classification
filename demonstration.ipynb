{
 "cells": [
  {
   "cell_type": "code",
   "source": [
    "import torch\n",
    "import torch.nn as nn\n",
    "import torch.optim as optim\n",
    "\n",
    "from cnn import CNN\n",
    "from train import train\n",
    "from datasets import load_dataset"
   ],
   "metadata": {
    "collapsed": false
   },
   "id": "7d6e8dc649ea861e",
   "outputs": [],
   "execution_count": null
  },
  {
   "metadata": {},
   "cell_type": "markdown",
   "source": "# Configuration of model",
   "id": "847bd2a124632f38"
  },
  {
   "metadata": {},
   "cell_type": "code",
   "source": [
    "device = \"cuda\" if torch.cuda.is_available() else \"cpu\"\n",
    "\n",
    "if torch.backends.mps.is_available():\n",
    "    device = \"mps\"\n",
    "\n",
    "DATASET = \"CIFAR10\" # MNIST, CIFAR10\n",
    "PATH_TO_READY_MODEL = None\n",
    "PATH_TO_SAVE_MODEL = \"model.pth\"\n",
    "EPOCHS = 100"
   ],
   "id": "b9a57e9b2f578b88",
   "outputs": [],
   "execution_count": null
  },
  {
   "metadata": {},
   "cell_type": "markdown",
   "source": "# Load dataset",
   "id": "fd5accc14cb5ecba"
  },
  {
   "cell_type": "code",
   "source": "train_loader, test_loader = load_dataset(DATASET)",
   "metadata": {
    "collapsed": false,
    "is_executing": true
   },
   "id": "2e79f1429e05077",
   "outputs": [],
   "execution_count": null
  },
  {
   "metadata": {},
   "cell_type": "markdown",
   "source": "# Setup model",
   "id": "11d75f00414de79a"
  },
  {
   "cell_type": "code",
   "source": [
    "model = CNN(in_channels=3, num_classes=10).to(device)\n",
    "optimizer = optim.Adam(model.parameters(), lr=1e-4)\n",
    "criterion = nn.CrossEntropyLoss().to(device)"
   ],
   "metadata": {
    "collapsed": false
   },
   "id": "c90b9ae389f8e9b1",
   "outputs": [],
   "execution_count": null
  },
  {
   "metadata": {},
   "cell_type": "markdown",
   "source": "# Train or load model",
   "id": "5f47231c548cab07"
  },
  {
   "cell_type": "code",
   "source": [
    "if PATH_TO_READY_MODEL is not None:\n",
    "    model.load_state_dict(torch.load(PATH_TO_READY_MODEL, map_location=device))\n",
    "else:\n",
    "    train(model, optimizer, criterion, train_loader, test_loader, device=device, num_epochs=EPOCHS)\n",
    "    torch.save(model.state_dict(), PATH_TO_SAVE_MODEL if PATH_TO_SAVE_MODEL is not None else \"model.pth\")"
   ],
   "metadata": {
    "collapsed": false
   },
   "id": "a57b7667486d7bb0",
   "outputs": [],
   "execution_count": null
  },
  {
   "metadata": {},
   "cell_type": "markdown",
   "source": "# Show result on validation data",
   "id": "648db6d028308d3f"
  },
  {
   "cell_type": "code",
   "source": [
    "model.eval() \n",
    "\n",
    "correct = 0\n",
    "total = 0\n",
    "\n",
    "with torch.no_grad():\n",
    "    for images, real_labels in test_loader:\n",
    "        images = images.to(device)\n",
    "        real_labels = real_labels.to(device)\n",
    "        \n",
    "        outputs = model(images)\n",
    "        _, predicted_labels = torch.max(outputs, 1)\n",
    "        \n",
    "        total += real_labels.size(0)\n",
    "        correct += (predicted_labels == real_labels).sum().item()\n",
    "\n",
    "print(f'Accuracy on test dataset: {100 * correct / total:.2f}%')"
   ],
   "metadata": {
    "collapsed": false
   },
   "id": "d899b6787b4f1d1f",
   "outputs": [],
   "execution_count": null
  }
 ],
 "metadata": {
  "kernelspec": {
   "display_name": "Python 3",
   "language": "python",
   "name": "python3"
  },
  "language_info": {
   "codemirror_mode": {
    "name": "ipython",
    "version": 2
   },
   "file_extension": ".py",
   "mimetype": "text/x-python",
   "name": "python",
   "nbconvert_exporter": "python",
   "pygments_lexer": "ipython2",
   "version": "2.7.6"
  }
 },
 "nbformat": 4,
 "nbformat_minor": 5
}
